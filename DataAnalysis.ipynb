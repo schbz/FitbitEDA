{
 "cells": [
  {
   "cell_type": "markdown",
   "id": "bebee204",
   "metadata": {},
   "source": [
    "# Fitbit Raw Data Analysis\n",
    "\n",
    "This Jupyter notebook is designed to help you process and analyze your raw Fitbit data. Fitbit devices are capable of tracking various types of health and activity metrics, which can be valuable for both casual users and researchers. We will walk you through the process of cleaning, organizing, visualizing, and deriving insights from your Fitbit data.\n",
    "\n",
    "# Heart Rate Data Processing\n",
    "\n"
   ]
  },
  {
   "cell_type": "markdown",
   "id": "fafe822d",
   "metadata": {},
   "source": [
    "## Step 1: Import Libraries"
   ]
  },
  {
   "cell_type": "code",
   "execution_count": 25,
   "id": "9309353a",
   "metadata": {},
   "outputs": [],
   "source": [
    "import os\n",
    "import json\n",
    "import pandas as pd\n",
    "import re"
   ]
  },
  {
   "cell_type": "markdown",
   "id": "52c7617f",
   "metadata": {},
   "source": [
    "## Step 2: Define Function to Load and Summarize JSON Data"
   ]
  },
  {
   "cell_type": "code",
   "execution_count": 26,
   "id": "15154feb",
   "metadata": {},
   "outputs": [],
   "source": [
    "def load_and_summarize_json_files(folder_path):\n",
    "    summary_data = []\n",
    "    pattern = re.compile(r'heart_rate-(\\d{4}-\\d{2}-\\d{2}).json')\n",
    "    count = 0\n",
    "\n",
    "    for filename in os.listdir(folder_path):\n",
    "        match = pattern.match(filename)\n",
    "        if match:\n",
    "            print(filename)\n",
    "            date = match.group(1)\n",
    "            with open(os.path.join(folder_path, filename), 'r') as file:\n",
    "                data = json.load(file)\n",
    "                df = pd.DataFrame(data)\n",
    "                df[['bpm', 'confidence']] = df['value'].apply(pd.Series)\n",
    "                mean_bpm = df['bpm'].mean()\n",
    "                max_bpm = df['bpm'].max()\n",
    "                summary_data.append({'date': date, 'mean_bpm': mean_bpm, 'max_bpm': max_bpm})\n",
    "\n",
    "            count += 1\n",
    "            if count >= 5:  # Process only the first 5 matching JSON files\n",
    "                break\n",
    "        \n",
    "    return pd.DataFrame(summary_data)\n",
    "\n"
   ]
  },
  {
   "cell_type": "markdown",
   "id": "d5e2d711",
   "metadata": {},
   "source": [
    "## Step 3: Read and Summarize Data from the Specific Folder"
   ]
  },
  {
   "cell_type": "code",
   "execution_count": 27,
   "id": "a7736558",
   "metadata": {},
   "outputs": [
    {
     "name": "stdout",
     "output_type": "stream",
     "text": [
      "heart_rate-2015-01-27.json\n",
      "heart_rate-2015-01-28.json\n",
      "heart_rate-2015-01-29.json\n",
      "heart_rate-2015-01-30.json\n",
      "heart_rate-2015-01-31.json\n"
     ]
    }
   ],
   "source": [
    "\n",
    "folder_path = '.\\data\\SkyS\\Physical Activity'\n",
    "summary_data = load_and_summarize_json_files(folder_path)\n",
    "\n",
    "# Convert the \"date\" column to a datetime object\n",
    "summary_data['date'] = pd.to_datetime(summary_data['date'])\n"
   ]
  },
  {
   "cell_type": "markdown",
   "id": "f8abb9b3",
   "metadata": {},
   "source": [
    "## Step 4: Export to CSV"
   ]
  },
  {
   "cell_type": "code",
   "execution_count": 28,
   "id": "599a6ffb",
   "metadata": {},
   "outputs": [
    {
     "name": "stdout",
     "output_type": "stream",
     "text": [
      "Summary data saved to ./output/heart_rate_processed.csv\n"
     ]
    }
   ],
   "source": [
    "output_csv_path = './output/heart_rate_processed.csv'\n",
    "summary_data.to_csv(output_csv_path, index=False)\n",
    "print(f\"Summary data saved to {output_csv_path}\")\n"
   ]
  },
  {
   "cell_type": "code",
   "execution_count": null,
   "id": "2d669ace",
   "metadata": {},
   "outputs": [],
   "source": []
  }
 ],
 "metadata": {
  "kernelspec": {
   "display_name": "Python 3 (ipykernel)",
   "language": "python",
   "name": "python3"
  },
  "language_info": {
   "codemirror_mode": {
    "name": "ipython",
    "version": 3
   },
   "file_extension": ".py",
   "mimetype": "text/x-python",
   "name": "python",
   "nbconvert_exporter": "python",
   "pygments_lexer": "ipython3",
   "version": "3.10.9"
  }
 },
 "nbformat": 4,
 "nbformat_minor": 5
}
